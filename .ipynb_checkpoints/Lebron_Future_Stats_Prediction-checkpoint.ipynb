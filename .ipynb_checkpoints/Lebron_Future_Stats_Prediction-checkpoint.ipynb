{
 "cells": [
  {
   "cell_type": "code",
   "execution_count": 1,
   "metadata": {},
   "outputs": [],
   "source": [
    "%matplotlib inline"
   ]
  },
  {
   "cell_type": "code",
   "execution_count": 2,
   "metadata": {},
   "outputs": [],
   "source": [
    "import numpy as np\n",
    "import pandas as pd\n",
    "from scipy import stats\n",
    "import statsmodels.formula.api as sm\n",
    "import matplotlib.pyplot as plt\n",
    "import seaborn as sns\n",
    "import warnings\n",
    "warnings.filterwarnings('ignore')"
   ]
  },
  {
   "cell_type": "code",
   "execution_count": 3,
   "metadata": {},
   "outputs": [],
   "source": [
    "sns.set_style()"
   ]
  },
  {
   "cell_type": "code",
   "execution_count": 4,
   "metadata": {},
   "outputs": [],
   "source": [
    "data = pd.read_csv('lebron_career_games.csv')\n",
    "data.columns = map(str.upper, data.columns)"
   ]
  },
  {
   "cell_type": "code",
   "execution_count": 5,
   "metadata": {},
   "outputs": [],
   "source": [
    "data['MP'] = data['MP'].astype(str)\n",
    "data['MP'] = data['MP'].str.replace(':','.')\n",
    "data['MP'] = data['MP'].astype(float)\n",
    "data['AGE'] = data['AGE'].astype(str)\n",
    "data['AGE'] = data['AGE'].str.replace('-','.')\n",
    "data['AGE'] = data['AGE'].astype(float)\n",
    "data['RESULT'] = data['RESULT'].str[:1]"
   ]
  },
  {
   "cell_type": "code",
   "execution_count": 6,
   "metadata": {},
   "outputs": [],
   "source": [
    "data = data.drop(['GAME'], axis=1)\n",
    "data['DATE'] = pd.to_datetime(data['DATE'])"
   ]
  },
  {
   "cell_type": "code",
   "execution_count": 7,
   "metadata": {},
   "outputs": [
    {
     "name": "stdout",
     "output_type": "stream",
     "text": [
      "<class 'pandas.core.frame.DataFrame'>\n",
      "RangeIndex: 1143 entries, 0 to 1142\n",
      "Data columns (total 25 columns):\n",
      "DATE          1143 non-null datetime64[ns]\n",
      "AGE           1143 non-null float64\n",
      "TEAM          1143 non-null object\n",
      "OPP           1143 non-null object\n",
      "RESULT        1143 non-null object\n",
      "MP            1143 non-null float64\n",
      "FG            1143 non-null int64\n",
      "FGA           1143 non-null int64\n",
      "FGP           1143 non-null float64\n",
      "THREE         1143 non-null int64\n",
      "3A            1143 non-null int64\n",
      "3P            1103 non-null float64\n",
      "FT            1143 non-null int64\n",
      "FTA           1143 non-null int64\n",
      "FTP           1131 non-null float64\n",
      "ORB           1143 non-null int64\n",
      "DRB           1143 non-null int64\n",
      "TRB           1143 non-null int64\n",
      "AST           1143 non-null int64\n",
      "STL           1143 non-null int64\n",
      "BLK           1143 non-null int64\n",
      "TOV           1143 non-null int64\n",
      "PTS           1143 non-null int64\n",
      "GAME_SCORE    1143 non-null float64\n",
      "MINUS_PLUS    1143 non-null int64\n",
      "dtypes: datetime64[ns](1), float64(6), int64(15), object(3)\n",
      "memory usage: 223.3+ KB\n"
     ]
    }
   ],
   "source": [
    "data.info()"
   ]
  },
  {
   "cell_type": "code",
   "execution_count": 8,
   "metadata": {},
   "outputs": [],
   "source": [
    "lebron_core = data[['AGE','MP','FG','FGP','THREE','3P','FT','FTP','TRB',\n",
    "                    'AST', 'STL', 'BLK', 'TOV', 'PTS']]"
   ]
  },
  {
   "cell_type": "code",
   "execution_count": 9,
   "metadata": {},
   "outputs": [
    {
     "data": {
      "text/plain": [
       "1091"
      ]
     },
     "execution_count": 9,
     "metadata": {},
     "output_type": "execute_result"
    }
   ],
   "source": [
    "lebron_core = lebron_core.dropna()\n",
    "len(lebron_core)"
   ]
  },
  {
   "cell_type": "code",
   "execution_count": 10,
   "metadata": {},
   "outputs": [
    {
     "data": {
      "text/html": [
       "<table class=\"simpletable\">\n",
       "<caption>OLS Regression Results</caption>\n",
       "<tr>\n",
       "  <th>Dep. Variable:</th>            <td>y</td>        <th>  R-squared:         </th>  <td>   1.000</td> \n",
       "</tr>\n",
       "<tr>\n",
       "  <th>Model:</th>                   <td>OLS</td>       <th>  Adj. R-squared:    </th>  <td>   1.000</td> \n",
       "</tr>\n",
       "<tr>\n",
       "  <th>Method:</th>             <td>Least Squares</td>  <th>  F-statistic:       </th>  <td>1.154e+30</td>\n",
       "</tr>\n",
       "<tr>\n",
       "  <th>Date:</th>             <td>Sun, 22 Apr 2018</td> <th>  Prob (F-statistic):</th>   <td>  0.00</td>  \n",
       "</tr>\n",
       "<tr>\n",
       "  <th>Time:</th>                 <td>20:01:44</td>     <th>  Log-Likelihood:    </th>  <td>  31351.</td> \n",
       "</tr>\n",
       "<tr>\n",
       "  <th>No. Observations:</th>      <td>  1091</td>      <th>  AIC:               </th> <td>-6.268e+04</td>\n",
       "</tr>\n",
       "<tr>\n",
       "  <th>Df Residuals:</th>          <td>  1081</td>      <th>  BIC:               </th> <td>-6.263e+04</td>\n",
       "</tr>\n",
       "<tr>\n",
       "  <th>Df Model:</th>              <td>     9</td>      <th>                     </th>      <td> </td>    \n",
       "</tr>\n",
       "<tr>\n",
       "  <th>Covariance Type:</th>      <td>nonrobust</td>    <th>                     </th>      <td> </td>    \n",
       "</tr>\n",
       "</table>\n",
       "<table class=\"simpletable\">\n",
       "<tr>\n",
       "    <td></td>       <th>coef</th>     <th>std err</th>      <th>t</th>      <th>P>|t|</th>  <th>[0.025</th>    <th>0.975]</th>  \n",
       "</tr>\n",
       "<tr>\n",
       "  <th>const</th> <td>  4.26e-14</td> <td> 2.76e-14</td> <td>    1.542</td> <td> 0.123</td> <td>-1.16e-14</td> <td> 9.68e-14</td>\n",
       "</tr>\n",
       "<tr>\n",
       "  <th>x1</th>    <td> 1.556e-15</td> <td> 6.14e-16</td> <td>    2.532</td> <td> 0.011</td> <td>  3.5e-16</td> <td> 2.76e-15</td>\n",
       "</tr>\n",
       "<tr>\n",
       "  <th>x2</th>    <td>    2.0000</td> <td> 1.28e-15</td> <td> 1.56e+15</td> <td> 0.000</td> <td>    2.000</td> <td>    2.000</td>\n",
       "</tr>\n",
       "<tr>\n",
       "  <th>x3</th>    <td>  5.44e-14</td> <td> 3.23e-14</td> <td>    1.684</td> <td> 0.092</td> <td>-8.98e-15</td> <td> 1.18e-13</td>\n",
       "</tr>\n",
       "<tr>\n",
       "  <th>x4</th>    <td>    1.0000</td> <td> 2.71e-15</td> <td> 3.68e+14</td> <td> 0.000</td> <td>    1.000</td> <td>    1.000</td>\n",
       "</tr>\n",
       "<tr>\n",
       "  <th>x5</th>    <td>-1.751e-14</td> <td> 1.46e-14</td> <td>   -1.198</td> <td> 0.231</td> <td>-4.62e-14</td> <td> 1.12e-14</td>\n",
       "</tr>\n",
       "<tr>\n",
       "  <th>x6</th>    <td>    1.0000</td> <td> 8.17e-16</td> <td> 1.22e+15</td> <td> 0.000</td> <td>    1.000</td> <td>    1.000</td>\n",
       "</tr>\n",
       "<tr>\n",
       "  <th>x7</th>    <td>-3.927e-14</td> <td> 1.45e-14</td> <td>   -2.718</td> <td> 0.007</td> <td>-6.76e-14</td> <td>-1.09e-14</td>\n",
       "</tr>\n",
       "<tr>\n",
       "  <th>x8</th>    <td>-2.036e-15</td> <td> 8.48e-16</td> <td>   -2.403</td> <td> 0.016</td> <td> -3.7e-15</td> <td>-3.73e-16</td>\n",
       "</tr>\n",
       "<tr>\n",
       "  <th>x9</th>    <td>-5.768e-17</td> <td> 8.87e-16</td> <td>   -0.065</td> <td> 0.948</td> <td> -1.8e-15</td> <td> 1.68e-15</td>\n",
       "</tr>\n",
       "</table>\n",
       "<table class=\"simpletable\">\n",
       "<tr>\n",
       "  <th>Omnibus:</th>       <td> 3.028</td> <th>  Durbin-Watson:     </th> <td>   0.044</td>\n",
       "</tr>\n",
       "<tr>\n",
       "  <th>Prob(Omnibus):</th> <td> 0.220</td> <th>  Jarque-Bera (JB):  </th> <td>   2.979</td>\n",
       "</tr>\n",
       "<tr>\n",
       "  <th>Skew:</th>          <td> 0.128</td> <th>  Prob(JB):          </th> <td>   0.225</td>\n",
       "</tr>\n",
       "<tr>\n",
       "  <th>Kurtosis:</th>      <td> 3.014</td> <th>  Cond. No.          </th> <td>    660.</td>\n",
       "</tr>\n",
       "</table>"
      ],
      "text/plain": [
       "<class 'statsmodels.iolib.summary.Summary'>\n",
       "\"\"\"\n",
       "                            OLS Regression Results                            \n",
       "==============================================================================\n",
       "Dep. Variable:                      y   R-squared:                       1.000\n",
       "Model:                            OLS   Adj. R-squared:                  1.000\n",
       "Method:                 Least Squares   F-statistic:                 1.154e+30\n",
       "Date:                Sun, 22 Apr 2018   Prob (F-statistic):               0.00\n",
       "Time:                        20:01:44   Log-Likelihood:                 31351.\n",
       "No. Observations:                1091   AIC:                        -6.268e+04\n",
       "Df Residuals:                    1081   BIC:                        -6.263e+04\n",
       "Df Model:                           9                                         \n",
       "Covariance Type:            nonrobust                                         \n",
       "==============================================================================\n",
       "                 coef    std err          t      P>|t|      [0.025      0.975]\n",
       "------------------------------------------------------------------------------\n",
       "const        4.26e-14   2.76e-14      1.542      0.123   -1.16e-14    9.68e-14\n",
       "x1          1.556e-15   6.14e-16      2.532      0.011     3.5e-16    2.76e-15\n",
       "x2             2.0000   1.28e-15   1.56e+15      0.000       2.000       2.000\n",
       "x3           5.44e-14   3.23e-14      1.684      0.092   -8.98e-15    1.18e-13\n",
       "x4             1.0000   2.71e-15   3.68e+14      0.000       1.000       1.000\n",
       "x5         -1.751e-14   1.46e-14     -1.198      0.231   -4.62e-14    1.12e-14\n",
       "x6             1.0000   8.17e-16   1.22e+15      0.000       1.000       1.000\n",
       "x7         -3.927e-14   1.45e-14     -2.718      0.007   -6.76e-14   -1.09e-14\n",
       "x8         -2.036e-15   8.48e-16     -2.403      0.016    -3.7e-15   -3.73e-16\n",
       "x9         -5.768e-17   8.87e-16     -0.065      0.948    -1.8e-15    1.68e-15\n",
       "==============================================================================\n",
       "Omnibus:                        3.028   Durbin-Watson:                   0.044\n",
       "Prob(Omnibus):                  0.220   Jarque-Bera (JB):                2.979\n",
       "Skew:                           0.128   Prob(JB):                        0.225\n",
       "Kurtosis:                       3.014   Cond. No.                         660.\n",
       "==============================================================================\n",
       "\n",
       "Warnings:\n",
       "[1] Standard Errors assume that the covariance matrix of the errors is correctly specified.\n",
       "\"\"\""
      ]
     },
     "execution_count": 10,
     "metadata": {},
     "output_type": "execute_result"
    }
   ],
   "source": [
    "X_selection = np.array(lebron_core[['MP','FG','FGP','THREE','3P','FT','FTP','TRB',\n",
    "                    'AST', 'STL']])\n",
    "y = np.array(lebron_core['PTS']).reshape(-1,1)\n",
    "\n",
    "X_selection = np.append(arr=np.ones((1091,1)).astype(int), values=X_selection, axis=1)\n",
    "X_opt = X_selection[:,[0,1,2,3,4,5,6,7,8,9]]\n",
    "reg_OLS = sm.OLS(endog=y, exog=X_opt).fit()\n",
    "\n",
    "reg_OLS.summary()"
   ]
  },
  {
   "cell_type": "code",
   "execution_count": 11,
   "metadata": {},
   "outputs": [
    {
     "data": {
      "text/html": [
       "<table class=\"simpletable\">\n",
       "<caption>OLS Regression Results</caption>\n",
       "<tr>\n",
       "  <th>Dep. Variable:</th>            <td>y</td>        <th>  R-squared:         </th>  <td>   1.000</td> \n",
       "</tr>\n",
       "<tr>\n",
       "  <th>Model:</th>                   <td>OLS</td>       <th>  Adj. R-squared:    </th>  <td>   1.000</td> \n",
       "</tr>\n",
       "<tr>\n",
       "  <th>Method:</th>             <td>Least Squares</td>  <th>  F-statistic:       </th>  <td>1.906e+30</td>\n",
       "</tr>\n",
       "<tr>\n",
       "  <th>Date:</th>             <td>Sun, 22 Apr 2018</td> <th>  Prob (F-statistic):</th>   <td>  0.00</td>  \n",
       "</tr>\n",
       "<tr>\n",
       "  <th>Time:</th>                 <td>20:01:58</td>     <th>  Log-Likelihood:    </th>  <td>  31402.</td> \n",
       "</tr>\n",
       "<tr>\n",
       "  <th>No. Observations:</th>      <td>  1091</td>      <th>  AIC:               </th> <td>-6.279e+04</td>\n",
       "</tr>\n",
       "<tr>\n",
       "  <th>Df Residuals:</th>          <td>  1084</td>      <th>  BIC:               </th> <td>-6.276e+04</td>\n",
       "</tr>\n",
       "<tr>\n",
       "  <th>Df Model:</th>              <td>     6</td>      <th>                     </th>      <td> </td>    \n",
       "</tr>\n",
       "<tr>\n",
       "  <th>Covariance Type:</th>      <td>nonrobust</td>    <th>                     </th>      <td> </td>    \n",
       "</tr>\n",
       "</table>\n",
       "<table class=\"simpletable\">\n",
       "<tr>\n",
       "    <td></td>       <th>coef</th>     <th>std err</th>      <th>t</th>      <th>P>|t|</th>  <th>[0.025</th>    <th>0.975]</th>  \n",
       "</tr>\n",
       "<tr>\n",
       "  <th>const</th> <td> 7.244e-14</td> <td> 2.11e-14</td> <td>    3.434</td> <td> 0.001</td> <td> 3.11e-14</td> <td> 1.14e-13</td>\n",
       "</tr>\n",
       "<tr>\n",
       "  <th>x1</th>    <td> 6.002e-16</td> <td> 5.23e-16</td> <td>    1.147</td> <td> 0.252</td> <td>-4.27e-16</td> <td> 1.63e-15</td>\n",
       "</tr>\n",
       "<tr>\n",
       "  <th>x2</th>    <td>    2.0000</td> <td> 8.78e-16</td> <td> 2.28e+15</td> <td> 0.000</td> <td>    2.000</td> <td>    2.000</td>\n",
       "</tr>\n",
       "<tr>\n",
       "  <th>x3</th>    <td>    1.0000</td> <td> 1.83e-15</td> <td> 5.47e+14</td> <td> 0.000</td> <td>    1.000</td> <td>    1.000</td>\n",
       "</tr>\n",
       "<tr>\n",
       "  <th>x4</th>    <td>    1.0000</td> <td> 7.76e-16</td> <td> 1.29e+15</td> <td> 0.000</td> <td>    1.000</td> <td>    1.000</td>\n",
       "</tr>\n",
       "<tr>\n",
       "  <th>x5</th>    <td>-3.488e-15</td> <td> 1.37e-14</td> <td>   -0.254</td> <td> 0.800</td> <td>-3.05e-14</td> <td> 2.35e-14</td>\n",
       "</tr>\n",
       "<tr>\n",
       "  <th>x6</th>    <td>-2.525e-16</td> <td> 7.95e-16</td> <td>   -0.318</td> <td> 0.751</td> <td>-1.81e-15</td> <td> 1.31e-15</td>\n",
       "</tr>\n",
       "</table>\n",
       "<table class=\"simpletable\">\n",
       "<tr>\n",
       "  <th>Omnibus:</th>       <td> 0.605</td> <th>  Durbin-Watson:     </th> <td>   0.007</td>\n",
       "</tr>\n",
       "<tr>\n",
       "  <th>Prob(Omnibus):</th> <td> 0.739</td> <th>  Jarque-Bera (JB):  </th> <td>   0.511</td>\n",
       "</tr>\n",
       "<tr>\n",
       "  <th>Skew:</th>          <td> 0.045</td> <th>  Prob(JB):          </th> <td>   0.774</td>\n",
       "</tr>\n",
       "<tr>\n",
       "  <th>Kurtosis:</th>      <td> 3.057</td> <th>  Cond. No.          </th> <td>    405.</td>\n",
       "</tr>\n",
       "</table>"
      ],
      "text/plain": [
       "<class 'statsmodels.iolib.summary.Summary'>\n",
       "\"\"\"\n",
       "                            OLS Regression Results                            \n",
       "==============================================================================\n",
       "Dep. Variable:                      y   R-squared:                       1.000\n",
       "Model:                            OLS   Adj. R-squared:                  1.000\n",
       "Method:                 Least Squares   F-statistic:                 1.906e+30\n",
       "Date:                Sun, 22 Apr 2018   Prob (F-statistic):               0.00\n",
       "Time:                        20:01:58   Log-Likelihood:                 31402.\n",
       "No. Observations:                1091   AIC:                        -6.279e+04\n",
       "Df Residuals:                    1084   BIC:                        -6.276e+04\n",
       "Df Model:                           6                                         \n",
       "Covariance Type:            nonrobust                                         \n",
       "==============================================================================\n",
       "                 coef    std err          t      P>|t|      [0.025      0.975]\n",
       "------------------------------------------------------------------------------\n",
       "const       7.244e-14   2.11e-14      3.434      0.001    3.11e-14    1.14e-13\n",
       "x1          6.002e-16   5.23e-16      1.147      0.252   -4.27e-16    1.63e-15\n",
       "x2             2.0000   8.78e-16   2.28e+15      0.000       2.000       2.000\n",
       "x3             1.0000   1.83e-15   5.47e+14      0.000       1.000       1.000\n",
       "x4             1.0000   7.76e-16   1.29e+15      0.000       1.000       1.000\n",
       "x5         -3.488e-15   1.37e-14     -0.254      0.800   -3.05e-14    2.35e-14\n",
       "x6         -2.525e-16   7.95e-16     -0.318      0.751   -1.81e-15    1.31e-15\n",
       "==============================================================================\n",
       "Omnibus:                        0.605   Durbin-Watson:                   0.007\n",
       "Prob(Omnibus):                  0.739   Jarque-Bera (JB):                0.511\n",
       "Skew:                           0.045   Prob(JB):                        0.774\n",
       "Kurtosis:                       3.057   Cond. No.                         405.\n",
       "==============================================================================\n",
       "\n",
       "Warnings:\n",
       "[1] Standard Errors assume that the covariance matrix of the errors is correctly specified.\n",
       "\"\"\""
      ]
     },
     "execution_count": 11,
     "metadata": {},
     "output_type": "execute_result"
    }
   ],
   "source": [
    "X_selection_2 = np.array(lebron_core[['MP','FG','THREE','FT','FTP','TRB',\n",
    "                    'AST']])\n",
    "y = np.array(lebron_core['PTS']).reshape(-1,1)\n",
    "\n",
    "X_selection_2 = np.append(arr=np.ones((1091,1)).astype(int), values=X_selection_2, axis=1)\n",
    "X_opt = X_selection_2[:,[0,1,2,3,4,5,6]]\n",
    "reg_OLS = sm.OLS(endog=y, exog=X_opt).fit()\n",
    "\n",
    "reg_OLS.summary()"
   ]
  },
  {
   "cell_type": "code",
   "execution_count": 12,
   "metadata": {},
   "outputs": [
    {
     "data": {
      "text/html": [
       "<table class=\"simpletable\">\n",
       "<caption>OLS Regression Results</caption>\n",
       "<tr>\n",
       "  <th>Dep. Variable:</th>            <td>y</td>        <th>  R-squared:         </th> <td>   0.813</td>\n",
       "</tr>\n",
       "<tr>\n",
       "  <th>Model:</th>                   <td>OLS</td>       <th>  Adj. R-squared:    </th> <td>   0.813</td>\n",
       "</tr>\n",
       "<tr>\n",
       "  <th>Method:</th>             <td>Least Squares</td>  <th>  F-statistic:       </th> <td>   2363.</td>\n",
       "</tr>\n",
       "<tr>\n",
       "  <th>Date:</th>             <td>Sun, 22 Apr 2018</td> <th>  Prob (F-statistic):</th>  <td>  0.00</td> \n",
       "</tr>\n",
       "<tr>\n",
       "  <th>Time:</th>                 <td>20:02:11</td>     <th>  Log-Likelihood:    </th> <td> -2882.2</td>\n",
       "</tr>\n",
       "<tr>\n",
       "  <th>No. Observations:</th>      <td>  1091</td>      <th>  AIC:               </th> <td>   5770.</td>\n",
       "</tr>\n",
       "<tr>\n",
       "  <th>Df Residuals:</th>          <td>  1088</td>      <th>  BIC:               </th> <td>   5785.</td>\n",
       "</tr>\n",
       "<tr>\n",
       "  <th>Df Model:</th>              <td>     2</td>      <th>                     </th>     <td> </td>   \n",
       "</tr>\n",
       "<tr>\n",
       "  <th>Covariance Type:</th>      <td>nonrobust</td>    <th>                     </th>     <td> </td>   \n",
       "</tr>\n",
       "</table>\n",
       "<table class=\"simpletable\">\n",
       "<tr>\n",
       "    <td></td>       <th>coef</th>     <th>std err</th>      <th>t</th>      <th>P>|t|</th>  <th>[0.025</th>    <th>0.975]</th>  \n",
       "</tr>\n",
       "<tr>\n",
       "  <th>const</th> <td>    5.4377</td> <td>    0.347</td> <td>   15.684</td> <td> 0.000</td> <td>    4.757</td> <td>    6.118</td>\n",
       "</tr>\n",
       "<tr>\n",
       "  <th>x1</th>    <td>    2.0748</td> <td>    0.037</td> <td>   56.826</td> <td> 0.000</td> <td>    2.003</td> <td>    2.146</td>\n",
       "</tr>\n",
       "<tr>\n",
       "  <th>x2</th>    <td>    0.9471</td> <td>    0.081</td> <td>   11.697</td> <td> 0.000</td> <td>    0.788</td> <td>    1.106</td>\n",
       "</tr>\n",
       "</table>\n",
       "<table class=\"simpletable\">\n",
       "<tr>\n",
       "  <th>Omnibus:</th>       <td>105.219</td> <th>  Durbin-Watson:     </th> <td>   1.901</td>\n",
       "</tr>\n",
       "<tr>\n",
       "  <th>Prob(Omnibus):</th> <td> 0.000</td>  <th>  Jarque-Bera (JB):  </th> <td> 139.160</td>\n",
       "</tr>\n",
       "<tr>\n",
       "  <th>Skew:</th>          <td> 0.777</td>  <th>  Prob(JB):          </th> <td>6.05e-31</td>\n",
       "</tr>\n",
       "<tr>\n",
       "  <th>Kurtosis:</th>      <td> 3.802</td>  <th>  Cond. No.          </th> <td>    35.7</td>\n",
       "</tr>\n",
       "</table>"
      ],
      "text/plain": [
       "<class 'statsmodels.iolib.summary.Summary'>\n",
       "\"\"\"\n",
       "                            OLS Regression Results                            \n",
       "==============================================================================\n",
       "Dep. Variable:                      y   R-squared:                       0.813\n",
       "Model:                            OLS   Adj. R-squared:                  0.813\n",
       "Method:                 Least Squares   F-statistic:                     2363.\n",
       "Date:                Sun, 22 Apr 2018   Prob (F-statistic):               0.00\n",
       "Time:                        20:02:11   Log-Likelihood:                -2882.2\n",
       "No. Observations:                1091   AIC:                             5770.\n",
       "Df Residuals:                    1088   BIC:                             5785.\n",
       "Df Model:                           2                                         \n",
       "Covariance Type:            nonrobust                                         \n",
       "==============================================================================\n",
       "                 coef    std err          t      P>|t|      [0.025      0.975]\n",
       "------------------------------------------------------------------------------\n",
       "const          5.4377      0.347     15.684      0.000       4.757       6.118\n",
       "x1             2.0748      0.037     56.826      0.000       2.003       2.146\n",
       "x2             0.9471      0.081     11.697      0.000       0.788       1.106\n",
       "==============================================================================\n",
       "Omnibus:                      105.219   Durbin-Watson:                   1.901\n",
       "Prob(Omnibus):                  0.000   Jarque-Bera (JB):              139.160\n",
       "Skew:                           0.777   Prob(JB):                     6.05e-31\n",
       "Kurtosis:                       3.802   Cond. No.                         35.7\n",
       "==============================================================================\n",
       "\n",
       "Warnings:\n",
       "[1] Standard Errors assume that the covariance matrix of the errors is correctly specified.\n",
       "\"\"\""
      ]
     },
     "execution_count": 12,
     "metadata": {},
     "output_type": "execute_result"
    }
   ],
   "source": [
    "X_selection_3 = np.array(lebron_core[['FG','THREE','FT']])\n",
    "y = np.array(lebron_core['PTS']).reshape(-1,1)\n",
    "\n",
    "X_selection_3 = np.append(arr=np.ones((1091,1)).astype(int), values=X_selection_3, axis=1)\n",
    "X_opt = X_selection_3[:,[0,1,2]]\n",
    "reg_OLS = sm.OLS(endog=y, exog=X_opt).fit()\n",
    "\n",
    "reg_OLS.summary()"
   ]
  },
  {
   "cell_type": "code",
   "execution_count": 13,
   "metadata": {},
   "outputs": [
    {
     "data": {
      "text/plain": [
       "Text(0.5,1,'Core features correlation with PTS')"
      ]
     },
     "execution_count": 13,
     "metadata": {},
     "output_type": "execute_result"
    },
    {
     "data": {
      "image/png": "[encoded data removed]",
      "text/plain": [
       "<Figure size 432x360 with 2 Axes>"
      ]
     },
     "metadata": {},
     "output_type": "display_data"
    }
   ],
   "source": [
    "fig, ax = plt.subplots(figsize=(6, 5))\n",
    "\n",
    "corr = lebron_core[['FG','THREE','FT','PTS']].corr()\n",
    "sns.heatmap(corr, square=True, cmap='rainbow', annot=True, robust=True, linewidth=.5)\n",
    "\n",
    "ax.set_title('Core features correlation with PTS')"
   ]
  },
  {
   "cell_type": "code",
   "execution_count": 14,
   "metadata": {},
   "outputs": [
    {
     "name": "stdout",
     "output_type": "stream",
     "text": [
      "MSE 51.195102670372364\n",
      "R2_score 0.236092840563637\n"
     ]
    }
   ],
   "source": [
    "from sklearn.model_selection import train_test_split\n",
    "from sklearn.linear_model import LinearRegression\n",
    "from sklearn.metrics import mean_squared_error\n",
    "from sklearn.metrics import r2_score\n",
    "\n",
    "X1 = np.array(lebron_core['THREE']).reshape(-1,1)\n",
    "y1 = np.array(lebron_core['PTS']).reshape(-1,1)\n",
    "\n",
    "X1_train, X1_test, y1_train, y1_test = train_test_split(X1, y1, test_size=.35, random_state=0)\n",
    "\n",
    "reg = LinearRegression()\n",
    "reg.fit(X1_train, y1_train)\n",
    "y1_pred = reg.predict(X1_test)\n",
    "\n",
    "MSE = mean_squared_error(y1_test, y1_pred)\n",
    "R2_Score = r2_score(y1_test, y1_pred)\n",
    "\n",
    "print('MSE %s' %MSE)\n",
    "print('R2_score %s' %R2_Score)"
   ]
  },
  {
   "cell_type": "code",
   "execution_count": 15,
   "metadata": {},
   "outputs": [
    {
     "name": "stdout",
     "output_type": "stream",
     "text": [
      "MSE 12.456675679038328\n",
      "R2_score 0.8179066936190715\n"
     ]
    }
   ],
   "source": [
    "from sklearn.model_selection import train_test_split\n",
    "from sklearn.linear_model import LinearRegression\n",
    "from sklearn.metrics import mean_squared_error\n",
    "from sklearn.metrics import r2_score\n",
    "\n",
    "X = np.array(lebron_core['FG']).reshape(-1,1)\n",
    "y = np.array(lebron_core['PTS']).reshape(-1,1)\n",
    "\n",
    "X_train, X_test, y_train, y_test = train_test_split(X, y, test_size=.3, random_state=0)\n",
    "\n",
    "reg = LinearRegression()\n",
    "reg.fit(X_train, y_train)\n",
    "y_pred = reg.predict(X_test)\n",
    "\n",
    "MSE = mean_squared_error(y_test, y_pred)\n",
    "R2_Score = r2_score(y_test, y_pred)\n",
    "\n",
    "print('MSE %s' %MSE)\n",
    "print('R2_score %s' %R2_Score)"
   ]
  },
  {
   "cell_type": "code",
   "execution_count": 16,
   "metadata": {},
   "outputs": [
    {
     "data": {
      "image/png": "[encoded data removed]",
      "text/plain": [
       "<Figure size 864x504 with 1 Axes>"
      ]
     },
     "metadata": {},
     "output_type": "display_data"
    }
   ],
   "source": [
    "fig, ax = plt.subplots(figsize=(12,7))\n",
    "\n",
    "X_ticks = np.arange(min(X), max(X)+1, 1)\n",
    "y_ticks = np.arange(min(y), max(y), 5)\n",
    "\n",
    "plt.scatter(X_train, y_train, color='red')\n",
    "plt.plot(X_test, reg.predict(X_test), color='blue')\n",
    "\n",
    "plt.title('Lebron Career Points Per Game Linear Regression Prediction', fontsize=14, color='purple')\n",
    "plt.xlabel('Field Goals')\n",
    "plt.ylabel('Points/Game')\n",
    "\n",
    "plt.xticks(X_ticks)\n",
    "plt.yticks(y_ticks)\n",
    "\n",
    "plt.grid(alpha=.35)"
   ]
  },
  {
   "cell_type": "code",
   "execution_count": 18,
   "metadata": {},
   "outputs": [
    {
     "name": "stdout",
     "output_type": "stream",
     "text": [
      "[[32.0243199]]\n",
      "MSE 12.510782378436186\n",
      "R2_score 0.8171157548449897\n"
     ]
    }
   ],
   "source": [
    "#Polynomial Regression Model!\n",
    "from sklearn.preprocessing import PolynomialFeatures\n",
    "\n",
    "X = np.array(lebron_core['FG']).reshape(-1,1)\n",
    "y = np.array(lebron_core['PTS']).reshape(-1,1)\n",
    "X_train, X_test, y_train, y_test = train_test_split(X, y, test_size=.3, random_state=0)\n",
    "#transform X into new metrics X poly!\n",
    "#transform X_train and X_test seprately!\n",
    "poly_reg = PolynomialFeatures(degree=2)\n",
    "X_train_poly = poly_reg.fit_transform(X_train)\n",
    "X_test_poly = poly_reg.transform(X_test)\n",
    "\n",
    "reg_2 = LinearRegression()\n",
    "reg_2.fit(X_train_poly, y_train)\n",
    "\n",
    "y_pred = reg_2.predict(X_test_poly)\n",
    "\n",
    "MSE = mean_squared_error(y_test, y_pred)\n",
    "R2_Score = r2_score(y_test, y_pred)\n",
    "\n",
    "print(reg_2.predict(poly_reg.transform(12)))\n",
    "print('MSE %s' %MSE)\n",
    "print('R2_score %s' %R2_Score)"
   ]
  },
  {
   "cell_type": "code",
   "execution_count": 19,
   "metadata": {},
   "outputs": [
    {
     "data": {
      "image/png": "[encoded data removed]",
      "text/plain": [
       "<Figure size 864x504 with 1 Axes>"
      ]
     },
     "metadata": {},
     "output_type": "display_data"
    }
   ],
   "source": [
    "fig, ax = plt.subplots(figsize=(12,7))\n",
    "\n",
    "X_ticks = np.arange(min(X), max(X)+1, 1)\n",
    "y_ticks = np.arange(min(y), max(y), 5)\n",
    "\n",
    "plt.scatter(X, y, color='red')\n",
    "plt.plot(X_test, reg_2.predict(poly_reg.transform(X_test)), color='blue')\n",
    "\n",
    "plt.title('Lebron Career Points Per Game Polynomial Regression Prediction', fontsize=14, color='purple')\n",
    "plt.xlabel('Field Goals')\n",
    "plt.ylabel('Points/Game')\n",
    "\n",
    "plt.xticks(X_ticks)\n",
    "plt.yticks(y_ticks)\n",
    "\n",
    "plt.grid(alpha=.35)"
   ]
  },
  {
   "cell_type": "code",
   "execution_count": 20,
   "metadata": {},
   "outputs": [],
   "source": [
    "df1 = pd.DataFrame(data=y_test, columns=['Actual'])\n",
    "df2 = pd.DataFrame(data=y_pred, columns=['Prediction'])\n",
    "\n",
    "result = pd.concat([df1, df2], axis=1)"
   ]
  },
  {
   "cell_type": "code",
   "execution_count": 22,
   "metadata": {},
   "outputs": [
    {
     "data": {
      "text/html": [
       "<div>\n",
       "<style scoped>\n",
       "    .dataframe tbody tr th:only-of-type {\n",
       "        vertical-align: middle;\n",
       "    }\n",
       "\n",
       "    .dataframe tbody tr th {\n",
       "        vertical-align: top;\n",
       "    }\n",
       "\n",
       "    .dataframe thead th {\n",
       "        text-align: right;\n",
       "    }\n",
       "</style>\n",
       "<table border=\"1\" class=\"dataframe\">\n",
       "  <thead>\n",
       "    <tr style=\"text-align: right;\">\n",
       "      <th></th>\n",
       "      <th>Actual</th>\n",
       "      <th>Prediction</th>\n",
       "    </tr>\n",
       "  </thead>\n",
       "  <tbody>\n",
       "    <tr>\n",
       "      <th>count</th>\n",
       "      <td>328.000000</td>\n",
       "      <td>328.000000</td>\n",
       "    </tr>\n",
       "    <tr>\n",
       "      <th>mean</th>\n",
       "      <td>26.981707</td>\n",
       "      <td>27.166137</td>\n",
       "    </tr>\n",
       "    <tr>\n",
       "      <th>std</th>\n",
       "      <td>8.283562</td>\n",
       "      <td>7.267455</td>\n",
       "    </tr>\n",
       "    <tr>\n",
       "      <th>min</th>\n",
       "      <td>3.000000</td>\n",
       "      <td>6.502621</td>\n",
       "    </tr>\n",
       "    <tr>\n",
       "      <th>25%</th>\n",
       "      <td>21.000000</td>\n",
       "      <td>20.975400</td>\n",
       "    </tr>\n",
       "    <tr>\n",
       "      <th>50%</th>\n",
       "      <td>26.000000</td>\n",
       "      <td>27.533630</td>\n",
       "    </tr>\n",
       "    <tr>\n",
       "      <th>75%</th>\n",
       "      <td>32.000000</td>\n",
       "      <td>32.024320</td>\n",
       "    </tr>\n",
       "    <tr>\n",
       "      <th>max</th>\n",
       "      <td>52.000000</td>\n",
       "      <td>48.488518</td>\n",
       "    </tr>\n",
       "  </tbody>\n",
       "</table>\n",
       "</div>"
      ],
      "text/plain": [
       "           Actual  Prediction\n",
       "count  328.000000  328.000000\n",
       "mean    26.981707   27.166137\n",
       "std      8.283562    7.267455\n",
       "min      3.000000    6.502621\n",
       "25%     21.000000   20.975400\n",
       "50%     26.000000   27.533630\n",
       "75%     32.000000   32.024320\n",
       "max     52.000000   48.488518"
      ]
     },
     "execution_count": 22,
     "metadata": {},
     "output_type": "execute_result"
    }
   ],
   "source": [
    "result.describe()"
   ]
  },
  {
   "cell_type": "code",
   "execution_count": 24,
   "metadata": {},
   "outputs": [
    {
     "name": "stdout",
     "output_type": "stream",
     "text": [
      "[31.76314503]\n",
      "MSE 0.23026591679237648\n",
      "R2_score 0.8025706640756569\n"
     ]
    }
   ],
   "source": [
    "#SVR model!\n",
    "from sklearn.preprocessing import StandardScaler\n",
    "from sklearn.svm import SVR\n",
    "\n",
    "X = np.array(lebron_core['FG']).reshape(-1,1)\n",
    "y = np.array(lebron_core['PTS']).reshape(-1,1)\n",
    "\n",
    "X_train, X_test, y_train, y_test = train_test_split(X, y, test_size=.3, random_state=0)\n",
    "\n",
    "X_scaler = StandardScaler()\n",
    "y_scaler = StandardScaler()\n",
    "\n",
    "X_train = X_scaler.fit_transform(X_train)\n",
    "X_test = X_scaler.transform(X_test)\n",
    "y_train = y_scaler.fit_transform(y_train)\n",
    "y_test = y_scaler.transform(y_test)\n",
    "\n",
    "reg = SVR(kernel='rbf')\n",
    "reg.fit(X_train, y_train)\n",
    "\n",
    "y_pred = reg.predict(X_test)\n",
    "test_score = y_scaler.inverse_transform(reg.predict(X_scaler.transform(np.array([[12]]))))\n",
    "\n",
    "MSE = mean_squared_error(y_test, y_pred)\n",
    "R2_Score = r2_score(y_test, y_pred)\n",
    "\n",
    "print(test_score)\n",
    "print('MSE %s' %MSE)\n",
    "print('R2_score %s' %R2_Score)"
   ]
  },
  {
   "cell_type": "code",
   "execution_count": null,
   "metadata": {},
   "outputs": [],
   "source": []
  }
 ],
 "metadata": {
  "kernelspec": {
   "display_name": "Python 3",
   "language": "python",
   "name": "python3"
  },
  "language_info": {
   "codemirror_mode": {
    "name": "ipython",
    "version": 3
   },
   "file_extension": ".py",
   "mimetype": "text/x-python",
   "name": "python",
   "nbconvert_exporter": "python",
   "pygments_lexer": "ipython3",
   "version": "3.6.4"
  }
 },
 "nbformat": 4,
 "nbformat_minor": 2
}
